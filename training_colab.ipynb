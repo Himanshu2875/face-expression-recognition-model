{
  "cells": [
    {
      "cell_type": "code",
      "execution_count": 1,
      "id": "eab7030c",
      "metadata": {
        "id": "eab7030c"
      },
      "outputs": [],
      "source": [
        "from tensorflow import keras\n",
        "from keras.layers import (Activation, BatchNormalization, Conv2D, Dense,\n",
        "                          Dropout, Flatten, MaxPooling2D)\n",
        "from keras.models import Sequential\n",
        "from keras.preprocessing.image import ImageDataGenerator\n",
        "import os"
      ]
    },
    {
      "cell_type": "code",
      "execution_count": 2,
      "id": "78341f48",
      "metadata": {
        "id": "78341f48"
      },
      "outputs": [],
      "source": [
        "num_classes = 5\n",
        "img_rows,img_cols = 48 , 48\n",
        "batch_size = 32"
      ]
    },
    {
      "cell_type": "code",
      "source": [
        "from google.colab import drive\n",
        "drive.mount('/content/drive')"
      ],
      "metadata": {
        "colab": {
          "base_uri": "https://localhost:8080/"
        },
        "id": "fASNDfz-dtR3",
        "outputId": "29701419-516f-410b-fc5b-a23653abc4ec"
      },
      "id": "fASNDfz-dtR3",
      "execution_count": 3,
      "outputs": [
        {
          "output_type": "stream",
          "name": "stdout",
          "text": [
            "Mounted at /content/drive\n"
          ]
        }
      ]
    },
    {
      "cell_type": "code",
      "execution_count": 4,
      "id": "155586ba",
      "metadata": {
        "id": "155586ba"
      },
      "outputs": [],
      "source": [
        "train_data_dir = r\"/content/drive/MyDrive/facial-expression-recognition-with-keras/face-expression-recognition-dataset/train\" #Train images path here\n",
        "validation_data_dir = r\"/content/drive/MyDrive/facial-expression-recognition-with-keras/face-expression-recognition-dataset/validation\" #Test images path here"
      ]
    },
    {
      "cell_type": "code",
      "execution_count": 5,
      "id": "f33b0750",
      "metadata": {
        "id": "f33b0750"
      },
      "outputs": [],
      "source": [
        "train_data_gen = ImageDataGenerator(rescale = 1./255,\n",
        "                                    rotation_range = 30,\n",
        "                                    shear_range = 0.3,\n",
        "                                    zoom_range = 3.0,\n",
        "                                    width_shift_range = 0.4,\n",
        "                                    height_shift_range = 0.4,\n",
        "                                    horizontal_flip = True)\n",
        "# since my dataset not enough (too small) for training I'm making it different images from this by rotating\n",
        "# the image by 30% and changing the shear angle and zooming range also shifting the wight and height while\n",
        "# retaining the dimensions and also by producing mirror images."
      ]
    },
    {
      "cell_type": "code",
      "execution_count": 6,
      "id": "4ede5ef1",
      "metadata": {
        "id": "4ede5ef1"
      },
      "outputs": [],
      "source": [
        "validation_data_gen = ImageDataGenerator(rescale = 1./255)"
      ]
    },
    {
      "cell_type": "code",
      "execution_count": 7,
      "id": "e4b12fbb",
      "metadata": {
        "colab": {
          "base_uri": "https://localhost:8080/"
        },
        "id": "e4b12fbb",
        "outputId": "c70f6989-5f29-4475-bf9a-85610dd91c73"
      },
      "outputs": [
        {
          "output_type": "stream",
          "name": "stdout",
          "text": [
            "Found 24322 images belonging to 5 classes.\n"
          ]
        }
      ],
      "source": [
        "train_generator = train_data_gen.flow_from_directory(train_data_dir,\n",
        "                                                     color_mode = \"grayscale\",\n",
        "                                                     target_size = (img_cols,img_rows),\n",
        "                                                     batch_size = batch_size,\n",
        "                                                     class_mode = \"categorical\",\n",
        "                                                     shuffle = True)"
      ]
    },
    {
      "cell_type": "code",
      "execution_count": 8,
      "id": "465543ac",
      "metadata": {
        "colab": {
          "base_uri": "https://localhost:8080/"
        },
        "id": "465543ac",
        "outputId": "04cffd40-0e59-4583-dfd4-25c0fde7538e"
      },
      "outputs": [
        {
          "output_type": "stream",
          "name": "stdout",
          "text": [
            "Found 5957 images belonging to 5 classes.\n"
          ]
        }
      ],
      "source": [
        "validation_generator = validation_data_gen.flow_from_directory(validation_data_dir,\n",
        "                                                               color_mode = \"grayscale\",\n",
        "                                                               target_size = (img_cols,img_rows),\n",
        "                                                               batch_size = batch_size,\n",
        "                                                               class_mode = \"categorical\",\n",
        "                                                               shuffle = True)"
      ]
    },
    {
      "cell_type": "code",
      "execution_count": 9,
      "id": "271bdfd5",
      "metadata": {
        "id": "271bdfd5"
      },
      "outputs": [],
      "source": [
        "model = Sequential() # using sequential modeling\n",
        "\n",
        "#block1\n",
        "model.add(Conv2D(32,(3,3),padding=\"same\",\n",
        "                 kernel_initializer =\"he_normal\",input_shape=(img_rows,img_cols,1)))\n",
        "model.add(Activation(\"elu\"))\n",
        "model.add(BatchNormalization()) \n",
        "model.add(Conv2D(32,(3,3),padding=\"same\",\n",
        "                 kernel_initializer =\"he_normal\",input_shape=(img_rows,img_cols,1)))\n",
        "model.add(Activation(\"elu\"))\n",
        "model.add(BatchNormalization()) \n",
        "model.add(MaxPooling2D(pool_size=(2,2)))\n",
        "model.add(Dropout(0.2))"
      ]
    },
    {
      "cell_type": "code",
      "execution_count": 10,
      "id": "5e2257c0",
      "metadata": {
        "id": "5e2257c0"
      },
      "outputs": [],
      "source": [
        "#block2\n",
        "model.add(Conv2D(64,(3,3),padding=\"same\",kernel_initializer =\"he_normal\"))\n",
        "model.add(Activation(\"elu\"))\n",
        "model.add(BatchNormalization()) \n",
        "model.add(Conv2D(64,(3,3),padding=\"same\",kernel_initializer =\"he_normal\"))\n",
        "model.add(Activation(\"elu\"))\n",
        "model.add(BatchNormalization()) \n",
        "model.add(MaxPooling2D(pool_size=(2,2)))\n",
        "model.add(Dropout(0.2))"
      ]
    },
    {
      "cell_type": "code",
      "execution_count": 11,
      "id": "88263842",
      "metadata": {
        "id": "88263842"
      },
      "outputs": [],
      "source": [
        "#block3\n",
        "model.add(Conv2D(128,(3,3),padding=\"same\",kernel_initializer =\"he_normal\"))\n",
        "model.add(Activation(\"elu\"))\n",
        "model.add(BatchNormalization()) \n",
        "model.add(Conv2D(128,(3,3),padding=\"same\",kernel_initializer =\"he_normal\"))\n",
        "model.add(Activation(\"elu\"))\n",
        "model.add(BatchNormalization()) \n",
        "model.add(MaxPooling2D(pool_size=(2,2)))\n",
        "model.add(Dropout(0.2))"
      ]
    },
    {
      "cell_type": "code",
      "execution_count": 12,
      "id": "16b75ff1",
      "metadata": {
        "id": "16b75ff1"
      },
      "outputs": [],
      "source": [
        "#block4\n",
        "model.add(Conv2D(256,(3,3),padding=\"same\",kernel_initializer =\"he_normal\"))\n",
        "model.add(Activation(\"elu\"))\n",
        "model.add(BatchNormalization()) \n",
        "model.add(Conv2D(256,(3,3),padding=\"same\",kernel_initializer =\"he_normal\"))\n",
        "model.add(Activation(\"elu\"))\n",
        "model.add(BatchNormalization()) \n",
        "model.add(MaxPooling2D(pool_size=(2,2)))\n",
        "model.add(Dropout(0.2))"
      ]
    },
    {
      "cell_type": "code",
      "execution_count": 13,
      "id": "57956de6",
      "metadata": {
        "id": "57956de6"
      },
      "outputs": [],
      "source": [
        "#block5\n",
        "model.add(Conv2D(512,(3,3),padding=\"same\",kernel_initializer =\"he_normal\"))\n",
        "model.add(Activation(\"elu\"))\n",
        "model.add(BatchNormalization()) \n",
        "model.add(Conv2D(512,(3,3),padding=\"same\",kernel_initializer =\"he_normal\"))\n",
        "model.add(Activation(\"elu\"))\n",
        "model.add(BatchNormalization()) \n",
        "model.add(MaxPooling2D(pool_size=(2,2)))\n",
        "model.add(Dropout(0.2))"
      ]
    },
    {
      "cell_type": "code",
      "execution_count": 14,
      "id": "8ca88795",
      "metadata": {
        "id": "8ca88795"
      },
      "outputs": [],
      "source": [
        "#block6\n",
        "model.add(Flatten())\n",
        "model.add(Dense(64,kernel_initializer=\"he_normal\"))\n",
        "model.add(Activation(\"elu\"))\n",
        "model.add(BatchNormalization())\n",
        "model.add(Dropout(0.5))"
      ]
    },
    {
      "cell_type": "code",
      "execution_count": 15,
      "id": "0e23a5ab",
      "metadata": {
        "id": "0e23a5ab"
      },
      "outputs": [],
      "source": [
        "#block7\n",
        "model.add(Dense(64,kernel_initializer=\"he_normal\"))\n",
        "model.add(Activation(\"elu\"))\n",
        "model.add(BatchNormalization())\n",
        "model.add(Dropout(0.5))"
      ]
    },
    {
      "cell_type": "code",
      "execution_count": 16,
      "id": "ecb905be",
      "metadata": {
        "id": "ecb905be"
      },
      "outputs": [],
      "source": [
        "model.add(Dense(num_classes,kernel_initializer=\"he_normal\"))\n",
        "model.add(Activation(\"softmax\"))"
      ]
    },
    {
      "cell_type": "code",
      "execution_count": 17,
      "id": "ceb0af71",
      "metadata": {
        "colab": {
          "base_uri": "https://localhost:8080/"
        },
        "id": "ceb0af71",
        "outputId": "0f27c202-5df0-46af-ad6e-3254fab387c8"
      },
      "outputs": [
        {
          "output_type": "stream",
          "name": "stdout",
          "text": [
            "Model: \"sequential\"\n",
            "_________________________________________________________________\n",
            " Layer (type)                Output Shape              Param #   \n",
            "=================================================================\n",
            " conv2d (Conv2D)             (None, 48, 48, 32)        320       \n",
            "                                                                 \n",
            " activation (Activation)     (None, 48, 48, 32)        0         \n",
            "                                                                 \n",
            " batch_normalization (BatchN  (None, 48, 48, 32)       128       \n",
            " ormalization)                                                   \n",
            "                                                                 \n",
            " conv2d_1 (Conv2D)           (None, 48, 48, 32)        9248      \n",
            "                                                                 \n",
            " activation_1 (Activation)   (None, 48, 48, 32)        0         \n",
            "                                                                 \n",
            " batch_normalization_1 (Batc  (None, 48, 48, 32)       128       \n",
            " hNormalization)                                                 \n",
            "                                                                 \n",
            " max_pooling2d (MaxPooling2D  (None, 24, 24, 32)       0         \n",
            " )                                                               \n",
            "                                                                 \n",
            " dropout (Dropout)           (None, 24, 24, 32)        0         \n",
            "                                                                 \n",
            " conv2d_2 (Conv2D)           (None, 24, 24, 64)        18496     \n",
            "                                                                 \n",
            " activation_2 (Activation)   (None, 24, 24, 64)        0         \n",
            "                                                                 \n",
            " batch_normalization_2 (Batc  (None, 24, 24, 64)       256       \n",
            " hNormalization)                                                 \n",
            "                                                                 \n",
            " conv2d_3 (Conv2D)           (None, 24, 24, 64)        36928     \n",
            "                                                                 \n",
            " activation_3 (Activation)   (None, 24, 24, 64)        0         \n",
            "                                                                 \n",
            " batch_normalization_3 (Batc  (None, 24, 24, 64)       256       \n",
            " hNormalization)                                                 \n",
            "                                                                 \n",
            " max_pooling2d_1 (MaxPooling  (None, 12, 12, 64)       0         \n",
            " 2D)                                                             \n",
            "                                                                 \n",
            " dropout_1 (Dropout)         (None, 12, 12, 64)        0         \n",
            "                                                                 \n",
            " conv2d_4 (Conv2D)           (None, 12, 12, 128)       73856     \n",
            "                                                                 \n",
            " activation_4 (Activation)   (None, 12, 12, 128)       0         \n",
            "                                                                 \n",
            " batch_normalization_4 (Batc  (None, 12, 12, 128)      512       \n",
            " hNormalization)                                                 \n",
            "                                                                 \n",
            " conv2d_5 (Conv2D)           (None, 12, 12, 128)       147584    \n",
            "                                                                 \n",
            " activation_5 (Activation)   (None, 12, 12, 128)       0         \n",
            "                                                                 \n",
            " batch_normalization_5 (Batc  (None, 12, 12, 128)      512       \n",
            " hNormalization)                                                 \n",
            "                                                                 \n",
            " max_pooling2d_2 (MaxPooling  (None, 6, 6, 128)        0         \n",
            " 2D)                                                             \n",
            "                                                                 \n",
            " dropout_2 (Dropout)         (None, 6, 6, 128)         0         \n",
            "                                                                 \n",
            " conv2d_6 (Conv2D)           (None, 6, 6, 256)         295168    \n",
            "                                                                 \n",
            " activation_6 (Activation)   (None, 6, 6, 256)         0         \n",
            "                                                                 \n",
            " batch_normalization_6 (Batc  (None, 6, 6, 256)        1024      \n",
            " hNormalization)                                                 \n",
            "                                                                 \n",
            " conv2d_7 (Conv2D)           (None, 6, 6, 256)         590080    \n",
            "                                                                 \n",
            " activation_7 (Activation)   (None, 6, 6, 256)         0         \n",
            "                                                                 \n",
            " batch_normalization_7 (Batc  (None, 6, 6, 256)        1024      \n",
            " hNormalization)                                                 \n",
            "                                                                 \n",
            " max_pooling2d_3 (MaxPooling  (None, 3, 3, 256)        0         \n",
            " 2D)                                                             \n",
            "                                                                 \n",
            " dropout_3 (Dropout)         (None, 3, 3, 256)         0         \n",
            "                                                                 \n",
            " conv2d_8 (Conv2D)           (None, 3, 3, 512)         1180160   \n",
            "                                                                 \n",
            " activation_8 (Activation)   (None, 3, 3, 512)         0         \n",
            "                                                                 \n",
            " batch_normalization_8 (Batc  (None, 3, 3, 512)        2048      \n",
            " hNormalization)                                                 \n",
            "                                                                 \n",
            " conv2d_9 (Conv2D)           (None, 3, 3, 512)         2359808   \n",
            "                                                                 \n",
            " activation_9 (Activation)   (None, 3, 3, 512)         0         \n",
            "                                                                 \n",
            " batch_normalization_9 (Batc  (None, 3, 3, 512)        2048      \n",
            " hNormalization)                                                 \n",
            "                                                                 \n",
            " max_pooling2d_4 (MaxPooling  (None, 1, 1, 512)        0         \n",
            " 2D)                                                             \n",
            "                                                                 \n",
            " dropout_4 (Dropout)         (None, 1, 1, 512)         0         \n",
            "                                                                 \n",
            " flatten (Flatten)           (None, 512)               0         \n",
            "                                                                 \n",
            " dense (Dense)               (None, 64)                32832     \n",
            "                                                                 \n",
            " activation_10 (Activation)  (None, 64)                0         \n",
            "                                                                 \n",
            " batch_normalization_10 (Bat  (None, 64)               256       \n",
            " chNormalization)                                                \n",
            "                                                                 \n",
            " dropout_5 (Dropout)         (None, 64)                0         \n",
            "                                                                 \n",
            " dense_1 (Dense)             (None, 64)                4160      \n",
            "                                                                 \n",
            " activation_11 (Activation)  (None, 64)                0         \n",
            "                                                                 \n",
            " batch_normalization_11 (Bat  (None, 64)               256       \n",
            " chNormalization)                                                \n",
            "                                                                 \n",
            " dropout_6 (Dropout)         (None, 64)                0         \n",
            "                                                                 \n",
            " dense_2 (Dense)             (None, 5)                 325       \n",
            "                                                                 \n",
            " activation_12 (Activation)  (None, 5)                 0         \n",
            "                                                                 \n",
            "=================================================================\n",
            "Total params: 4,757,413\n",
            "Trainable params: 4,753,189\n",
            "Non-trainable params: 4,224\n",
            "_________________________________________________________________\n",
            "None\n"
          ]
        }
      ],
      "source": [
        "print(model.summary())"
      ]
    },
    {
      "cell_type": "code",
      "execution_count": 18,
      "id": "457cdab5",
      "metadata": {
        "id": "457cdab5"
      },
      "outputs": [],
      "source": [
        "checkpoint = keras.callbacks.ModelCheckpoint(r\"/content/drive/MyDrive/facial-expression-recognition-with-keras/Emotion_little_vgg.h5\",\n",
        "                        monitor=\"val_loss\",\n",
        "                        mode=\"min\",\n",
        "                        save_best_only=True,\n",
        "                        verbose=1) # checkpoint file name here in my case Emotion_little_vgg.h5\n",
        "\n",
        "# Here we will monitor the val_loss which is minimum and saving it\n",
        "\n",
        "earlystop = keras.callbacks.EarlyStopping(monitor=\"val_loss\",\n",
        "                        min_delta=0,\n",
        "                        patience=3,\n",
        "                        restore_best_weights=True,\n",
        "                        verbose=1)\n",
        "\n",
        "# Here we will monitor the val_loss whith 3 extra epoches and retain the best weighted file\n",
        "\n",
        "reduce_lr = keras.callbacks.ReduceLROnPlateau(monitor=\"val_loss\",\n",
        "                             factor=0.2,\n",
        "                             patience=3,\n",
        "                             verbose=1,\n",
        "                             min_delta=0.0001)"
      ]
    },
    {
      "cell_type": "code",
      "execution_count": 19,
      "id": "372d502c",
      "metadata": {
        "id": "372d502c"
      },
      "outputs": [],
      "source": [
        "callbacks=[earlystop,checkpoint,reduce_lr]\n",
        "\n",
        "model.compile(loss=\"categorical_crossentropy\",\n",
        "             optimizer=keras.optimizers.Adam(learning_rate=0.001),\n",
        "             metrics=[\"accuracy\"] )\n",
        "\n",
        "nb_train_samples = 24322 #obtained after train and validation generators\n",
        "nb_validation_samples = 5957 #obtained after train and validation generators\n",
        "epochs = 25"
      ]
    },
    {
      "cell_type": "code",
      "execution_count": 20,
      "id": "09007610",
      "metadata": {
        "colab": {
          "base_uri": "https://localhost:8080/"
        },
        "id": "09007610",
        "outputId": "51e53e2c-251e-4792-e546-d7fb81846065"
      },
      "outputs": [
        {
          "output_type": "stream",
          "name": "stdout",
          "text": [
            "Epoch 1/25\n",
            "760/760 [==============================] - ETA: 0s - loss: 1.8309 - accuracy: 0.2360\n",
            "Epoch 1: val_loss improved from inf to 1.53764, saving model to /content/drive/MyDrive/facial-expression-recognition-with-keras/Emotion_little_vgg.h5\n",
            "760/760 [==============================] - 4924s 6s/step - loss: 1.8309 - accuracy: 0.2360 - val_loss: 1.5376 - val_accuracy: 0.3068 - lr: 0.0010\n",
            "Epoch 2/25\n",
            "760/760 [==============================] - ETA: 0s - loss: 1.5841 - accuracy: 0.2736\n",
            "Epoch 2: val_loss did not improve from 1.53764\n",
            "760/760 [==============================] - 975s 1s/step - loss: 1.5841 - accuracy: 0.2736 - val_loss: 1.5464 - val_accuracy: 0.3101 - lr: 0.0010\n",
            "Epoch 3/25\n",
            "760/760 [==============================] - ETA: 0s - loss: 1.5616 - accuracy: 0.2942\n",
            "Epoch 3: val_loss did not improve from 1.53764\n",
            "760/760 [==============================] - 972s 1s/step - loss: 1.5616 - accuracy: 0.2942 - val_loss: 1.5412 - val_accuracy: 0.3149 - lr: 0.0010\n",
            "Epoch 4/25\n",
            "760/760 [==============================] - ETA: 0s - loss: 1.5587 - accuracy: 0.2942Restoring model weights from the end of the best epoch: 1.\n",
            "\n",
            "Epoch 4: val_loss did not improve from 1.53764\n",
            "\n",
            "Epoch 4: ReduceLROnPlateau reducing learning rate to 0.00020000000949949026.\n",
            "760/760 [==============================] - 974s 1s/step - loss: 1.5587 - accuracy: 0.2942 - val_loss: 1.5391 - val_accuracy: 0.3075 - lr: 0.0010\n",
            "Epoch 4: early stopping\n"
          ]
        }
      ],
      "source": [
        "#fitting/training our model\n",
        "history = model.fit(train_generator,\n",
        "                    steps_per_epoch=nb_train_samples//batch_size,\n",
        "                    epochs=epochs,\n",
        "                    callbacks=callbacks,\n",
        "                    validation_data=validation_generator,\n",
        "                    validation_steps=nb_validation_samples//batch_size)"
      ]
    }
  ],
  "metadata": {
    "kernelspec": {
      "display_name": "Python 3 (ipykernel)",
      "language": "python",
      "name": "python3"
    },
    "language_info": {
      "codemirror_mode": {
        "name": "ipython",
        "version": 3
      },
      "file_extension": ".py",
      "mimetype": "text/x-python",
      "name": "python",
      "nbconvert_exporter": "python",
      "pygments_lexer": "ipython3",
      "version": "3.9.12"
    },
    "colab": {
      "name": "training.ipynb",
      "provenance": []
    },
    "accelerator": "TPU",
    "gpuClass": "standard"
  },
  "nbformat": 4,
  "nbformat_minor": 5
}